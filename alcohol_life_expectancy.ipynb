{
 "cells": [
  {
   "cell_type": "markdown",
   "id": "f6e28ac5-4f9f-4230-a0cf-736329a64d7d",
   "metadata": {},
   "source": [
    "# Alcohol Consumption Analysis\n",
    "This notebook will be an exploratory analysis of two different datasets. One dataset has information about alcohol consumption by country which is the dataset we will primarily focus on for this analysis. The other dataset has information about life-expectancy by country. We will take a look at the data within each dataset, create some visualizations to enhance our understanding of the data, and use life expectancy dataset to see if there is any correlation with a country's alcohol consumption and life expectancy."
   ]
  },
  {
   "cell_type": "markdown",
   "id": "bfd4bf34",
   "metadata": {},
   "source": [
    "### Data Source"
   ]
  },
  {
   "cell_type": "markdown",
   "id": "e07b2a4f",
   "metadata": {},
   "source": [
    "Data obtained from UNCC Data Science and Business Analytics: https://data.world/uncc-dsba/dsba-6100-fall-2016"
   ]
  },
  {
   "cell_type": "markdown",
   "id": "27717f06-aa22-4404-8d8e-57ff4a5f7831",
   "metadata": {},
   "source": [
    "### Importing and Reviewing the Datasets"
   ]
  },
  {
   "cell_type": "code",
   "execution_count": 1,
   "id": "7dde6f7e-50ef-4b8a-b4b0-b5a8994ea9d4",
   "metadata": {},
   "outputs": [],
   "source": [
    "# Import required libraries\n",
    "import pandas as pd\n",
    "import matplotlib.pyplot as plt\n",
    "import seaborn as sns\n",
    "import numpy as np\n",
    "%matplotlib inline\n",
    "sns.set(style='whitegrid')"
   ]
  },
  {
   "cell_type": "markdown",
   "id": "3c1fb163-3663-407b-80ad-a0b0d45ae42b",
   "metadata": {},
   "source": [
    "Importing the drinks.csv dataset into a pandas dataframe:"
   ]
  },
  {
   "cell_type": "code",
   "execution_count": 2,
   "id": "0387af63-dae0-46f3-a498-495a75362c80",
   "metadata": {},
   "outputs": [],
   "source": [
    "df = pd.read_csv('drinks.csv')\n",
    "df = df.replace('?', np.NaN)"
   ]
  },
  {
   "cell_type": "code",
   "execution_count": 3,
   "id": "964e3033-f5d0-4219-bce9-b22c70acbd14",
   "metadata": {},
   "outputs": [
    {
     "name": "stdout",
     "output_type": "stream",
     "text": [
      "<class 'pandas.core.frame.DataFrame'>\n",
      "RangeIndex: 193 entries, 0 to 192\n",
      "Data columns (total 5 columns):\n",
      " #   Column                        Non-Null Count  Dtype  \n",
      "---  ------                        --------------  -----  \n",
      " 0   country                       193 non-null    object \n",
      " 1   beer_servings                 192 non-null    object \n",
      " 2   spirit_servings               192 non-null    object \n",
      " 3   wine_servings                 192 non-null    object \n",
      " 4   total_litres_of_pure_alcohol  0 non-null      float64\n",
      "dtypes: float64(1), object(4)\n",
      "memory usage: 7.7+ KB\n"
     ]
    }
   ],
   "source": [
    "df.info()"
   ]
  },
  {
   "cell_type": "markdown",
   "id": "1a32e873",
   "metadata": {},
   "source": [
    "dataset preview:"
   ]
  },
  {
   "cell_type": "code",
   "execution_count": 4,
   "id": "53bc355c-a574-4e07-85c8-35239431922a",
   "metadata": {},
   "outputs": [
    {
     "data": {
      "text/html": [
       "<div>\n",
       "<style scoped>\n",
       "    .dataframe tbody tr th:only-of-type {\n",
       "        vertical-align: middle;\n",
       "    }\n",
       "\n",
       "    .dataframe tbody tr th {\n",
       "        vertical-align: top;\n",
       "    }\n",
       "\n",
       "    .dataframe thead th {\n",
       "        text-align: right;\n",
       "    }\n",
       "</style>\n",
       "<table border=\"1\" class=\"dataframe\">\n",
       "  <thead>\n",
       "    <tr style=\"text-align: right;\">\n",
       "      <th></th>\n",
       "      <th>country</th>\n",
       "      <th>beer_servings</th>\n",
       "      <th>spirit_servings</th>\n",
       "      <th>wine_servings</th>\n",
       "      <th>total_litres_of_pure_alcohol</th>\n",
       "    </tr>\n",
       "  </thead>\n",
       "  <tbody>\n",
       "    <tr>\n",
       "      <th>0</th>\n",
       "      <td>Afghanistan</td>\n",
       "      <td>0</td>\n",
       "      <td>0</td>\n",
       "      <td>0</td>\n",
       "      <td>NaN</td>\n",
       "    </tr>\n",
       "    <tr>\n",
       "      <th>1</th>\n",
       "      <td>Albania</td>\n",
       "      <td>89</td>\n",
       "      <td>132</td>\n",
       "      <td>54</td>\n",
       "      <td>NaN</td>\n",
       "    </tr>\n",
       "    <tr>\n",
       "      <th>2</th>\n",
       "      <td>Algeria</td>\n",
       "      <td>25</td>\n",
       "      <td>0</td>\n",
       "      <td>14</td>\n",
       "      <td>NaN</td>\n",
       "    </tr>\n",
       "    <tr>\n",
       "      <th>3</th>\n",
       "      <td>Andorra</td>\n",
       "      <td>245</td>\n",
       "      <td>138</td>\n",
       "      <td>312</td>\n",
       "      <td>NaN</td>\n",
       "    </tr>\n",
       "    <tr>\n",
       "      <th>4</th>\n",
       "      <td>Angola</td>\n",
       "      <td>217</td>\n",
       "      <td>57</td>\n",
       "      <td>45</td>\n",
       "      <td>NaN</td>\n",
       "    </tr>\n",
       "  </tbody>\n",
       "</table>\n",
       "</div>"
      ],
      "text/plain": [
       "       country beer_servings spirit_servings wine_servings  \\\n",
       "0  Afghanistan             0               0             0   \n",
       "1      Albania            89             132            54   \n",
       "2      Algeria            25               0            14   \n",
       "3      Andorra           245             138           312   \n",
       "4       Angola           217              57            45   \n",
       "\n",
       "   total_litres_of_pure_alcohol  \n",
       "0                           NaN  \n",
       "1                           NaN  \n",
       "2                           NaN  \n",
       "3                           NaN  \n",
       "4                           NaN  "
      ]
     },
     "execution_count": 4,
     "metadata": {},
     "output_type": "execute_result"
    }
   ],
   "source": [
    "df.head()"
   ]
  },
  {
   "cell_type": "markdown",
   "id": "d899726f-6a45-4f10-b80a-8e7682133716",
   "metadata": {},
   "source": [
    "Moving on to the life expectancy dataset:"
   ]
  },
  {
   "cell_type": "code",
   "execution_count": 5,
   "id": "d42cb768-7ee7-4af8-b313-d4be3ef202fe",
   "metadata": {},
   "outputs": [],
   "source": [
    "df_le = pd.read_csv('lifeexpectancy.csv')"
   ]
  },
  {
   "cell_type": "code",
   "execution_count": 6,
   "id": "8388571e-3041-4123-8304-e335cba65578",
   "metadata": {},
   "outputs": [
    {
     "name": "stdout",
     "output_type": "stream",
     "text": [
      "<class 'pandas.core.frame.DataFrame'>\n",
      "RangeIndex: 6408 entries, 0 to 6407\n",
      "Data columns (total 16 columns):\n",
      " #   Column                         Non-Null Count  Dtype  \n",
      "---  ------                         --------------  -----  \n",
      " 0   GhoCode                        6408 non-null   object \n",
      " 1   GhoDisplay                     6408 non-null   object \n",
      " 2   PublishStateCode               6408 non-null   object \n",
      " 3   PublishStateDisplay            6408 non-null   object \n",
      " 4   YearCode                       6408 non-null   int64  \n",
      " 5   YearDisplay                    6408 non-null   int64  \n",
      " 6   RegionCode                     6408 non-null   object \n",
      " 7   RegionDisplay                  6408 non-null   object \n",
      " 8   WorldBankIncomeGroupGroupCode  5244 non-null   object \n",
      " 9   WorldBankIncomeGroupDisplay    5244 non-null   object \n",
      " 10  CountryCode                    6408 non-null   object \n",
      " 11  CountryDisplay                 6408 non-null   object \n",
      " 12  SexCode                        6408 non-null   object \n",
      " 13  SexDisplay                     6408 non-null   object \n",
      " 14  DisplayValue                   6408 non-null   int64  \n",
      " 15  Numeric                        6408 non-null   float64\n",
      "dtypes: float64(1), int64(3), object(12)\n",
      "memory usage: 801.1+ KB\n"
     ]
    }
   ],
   "source": [
    "df_le.info()"
   ]
  },
  {
   "cell_type": "markdown",
   "id": "eb36c241",
   "metadata": {},
   "source": [
    "dataset preview"
   ]
  },
  {
   "cell_type": "code",
   "execution_count": 7,
   "id": "f6cfe974-5d85-40ec-bf91-9a43b6a76c19",
   "metadata": {},
   "outputs": [
    {
     "data": {
      "text/html": [
       "<div>\n",
       "<style scoped>\n",
       "    .dataframe tbody tr th:only-of-type {\n",
       "        vertical-align: middle;\n",
       "    }\n",
       "\n",
       "    .dataframe tbody tr th {\n",
       "        vertical-align: top;\n",
       "    }\n",
       "\n",
       "    .dataframe thead th {\n",
       "        text-align: right;\n",
       "    }\n",
       "</style>\n",
       "<table border=\"1\" class=\"dataframe\">\n",
       "  <thead>\n",
       "    <tr style=\"text-align: right;\">\n",
       "      <th></th>\n",
       "      <th>GhoCode</th>\n",
       "      <th>GhoDisplay</th>\n",
       "      <th>PublishStateCode</th>\n",
       "      <th>PublishStateDisplay</th>\n",
       "      <th>YearCode</th>\n",
       "      <th>YearDisplay</th>\n",
       "      <th>RegionCode</th>\n",
       "      <th>RegionDisplay</th>\n",
       "      <th>WorldBankIncomeGroupGroupCode</th>\n",
       "      <th>WorldBankIncomeGroupDisplay</th>\n",
       "      <th>CountryCode</th>\n",
       "      <th>CountryDisplay</th>\n",
       "      <th>SexCode</th>\n",
       "      <th>SexDisplay</th>\n",
       "      <th>DisplayValue</th>\n",
       "      <th>Numeric</th>\n",
       "    </tr>\n",
       "  </thead>\n",
       "  <tbody>\n",
       "    <tr>\n",
       "      <th>0</th>\n",
       "      <td>WHOSIS_000001</td>\n",
       "      <td>Life expectancy at birth (years)</td>\n",
       "      <td>PUBLISHED</td>\n",
       "      <td>Published</td>\n",
       "      <td>2013</td>\n",
       "      <td>2013</td>\n",
       "      <td>EMR</td>\n",
       "      <td>Eastern Mediterranean</td>\n",
       "      <td>NaN</td>\n",
       "      <td>NaN</td>\n",
       "      <td>AFG</td>\n",
       "      <td>Afghanistan</td>\n",
       "      <td>BTSX</td>\n",
       "      <td>Both sexes</td>\n",
       "      <td>61</td>\n",
       "      <td>61.25205</td>\n",
       "    </tr>\n",
       "    <tr>\n",
       "      <th>1</th>\n",
       "      <td>WHOSIS_000001</td>\n",
       "      <td>Life expectancy at birth (years)</td>\n",
       "      <td>PUBLISHED</td>\n",
       "      <td>Published</td>\n",
       "      <td>2013</td>\n",
       "      <td>2013</td>\n",
       "      <td>EMR</td>\n",
       "      <td>Eastern Mediterranean</td>\n",
       "      <td>NaN</td>\n",
       "      <td>NaN</td>\n",
       "      <td>AFG</td>\n",
       "      <td>Afghanistan</td>\n",
       "      <td>FMLE</td>\n",
       "      <td>Female</td>\n",
       "      <td>62</td>\n",
       "      <td>61.97733</td>\n",
       "    </tr>\n",
       "    <tr>\n",
       "      <th>2</th>\n",
       "      <td>WHOSIS_000001</td>\n",
       "      <td>Life expectancy at birth (years)</td>\n",
       "      <td>PUBLISHED</td>\n",
       "      <td>Published</td>\n",
       "      <td>2013</td>\n",
       "      <td>2013</td>\n",
       "      <td>EMR</td>\n",
       "      <td>Eastern Mediterranean</td>\n",
       "      <td>NaN</td>\n",
       "      <td>NaN</td>\n",
       "      <td>AFG</td>\n",
       "      <td>Afghanistan</td>\n",
       "      <td>MLE</td>\n",
       "      <td>Male</td>\n",
       "      <td>61</td>\n",
       "      <td>60.51228</td>\n",
       "    </tr>\n",
       "    <tr>\n",
       "      <th>3</th>\n",
       "      <td>WHOSIS_000001</td>\n",
       "      <td>Life expectancy at birth (years)</td>\n",
       "      <td>PUBLISHED</td>\n",
       "      <td>Published</td>\n",
       "      <td>2012</td>\n",
       "      <td>2012</td>\n",
       "      <td>EMR</td>\n",
       "      <td>Eastern Mediterranean</td>\n",
       "      <td>WB_LI</td>\n",
       "      <td>Low_income</td>\n",
       "      <td>AFG</td>\n",
       "      <td>Afghanistan</td>\n",
       "      <td>BTSX</td>\n",
       "      <td>Both sexes</td>\n",
       "      <td>60</td>\n",
       "      <td>60.00000</td>\n",
       "    </tr>\n",
       "    <tr>\n",
       "      <th>4</th>\n",
       "      <td>WHOSIS_000001</td>\n",
       "      <td>Life expectancy at birth (years)</td>\n",
       "      <td>PUBLISHED</td>\n",
       "      <td>Published</td>\n",
       "      <td>2012</td>\n",
       "      <td>2012</td>\n",
       "      <td>EMR</td>\n",
       "      <td>Eastern Mediterranean</td>\n",
       "      <td>WB_LI</td>\n",
       "      <td>Low_income</td>\n",
       "      <td>AFG</td>\n",
       "      <td>Afghanistan</td>\n",
       "      <td>FMLE</td>\n",
       "      <td>Female</td>\n",
       "      <td>61</td>\n",
       "      <td>61.00000</td>\n",
       "    </tr>\n",
       "  </tbody>\n",
       "</table>\n",
       "</div>"
      ],
      "text/plain": [
       "         GhoCode                        GhoDisplay PublishStateCode  \\\n",
       "0  WHOSIS_000001  Life expectancy at birth (years)        PUBLISHED   \n",
       "1  WHOSIS_000001  Life expectancy at birth (years)        PUBLISHED   \n",
       "2  WHOSIS_000001  Life expectancy at birth (years)        PUBLISHED   \n",
       "3  WHOSIS_000001  Life expectancy at birth (years)        PUBLISHED   \n",
       "4  WHOSIS_000001  Life expectancy at birth (years)        PUBLISHED   \n",
       "\n",
       "  PublishStateDisplay  YearCode  YearDisplay RegionCode  \\\n",
       "0           Published      2013         2013        EMR   \n",
       "1           Published      2013         2013        EMR   \n",
       "2           Published      2013         2013        EMR   \n",
       "3           Published      2012         2012        EMR   \n",
       "4           Published      2012         2012        EMR   \n",
       "\n",
       "           RegionDisplay WorldBankIncomeGroupGroupCode  \\\n",
       "0  Eastern Mediterranean                           NaN   \n",
       "1  Eastern Mediterranean                           NaN   \n",
       "2  Eastern Mediterranean                           NaN   \n",
       "3  Eastern Mediterranean                         WB_LI   \n",
       "4  Eastern Mediterranean                         WB_LI   \n",
       "\n",
       "  WorldBankIncomeGroupDisplay CountryCode CountryDisplay SexCode  SexDisplay  \\\n",
       "0                         NaN         AFG    Afghanistan    BTSX  Both sexes   \n",
       "1                         NaN         AFG    Afghanistan    FMLE      Female   \n",
       "2                         NaN         AFG    Afghanistan     MLE        Male   \n",
       "3                  Low_income         AFG    Afghanistan    BTSX  Both sexes   \n",
       "4                  Low_income         AFG    Afghanistan    FMLE      Female   \n",
       "\n",
       "   DisplayValue   Numeric  \n",
       "0            61  61.25205  \n",
       "1            62  61.97733  \n",
       "2            61  60.51228  \n",
       "3            60  60.00000  \n",
       "4            61  61.00000  "
      ]
     },
     "execution_count": 7,
     "metadata": {},
     "output_type": "execute_result"
    }
   ],
   "source": [
    "df_le.head()"
   ]
  },
  {
   "cell_type": "markdown",
   "id": "f4f819c3-2f9a-48f1-8865-755b698a330a",
   "metadata": {},
   "source": [
    "### Data Cleaning & Transformation"
   ]
  },
  {
   "cell_type": "markdown",
   "id": "d37bdf67-1728-44dd-9ee6-f70b02ea1f00",
   "metadata": {},
   "source": [
    "Upon importing the data, there's a few things that need to be done in order to get the drinks dataframe ready for analysis:\n",
    "- Convert columns to numeric values\n",
    "- Fill Missing Values (will fill column mean)\n",
    "- Drop total_litres_of_pure_alcohol column as the data is missing entirely\n",
    "- Create a new column showing sum of all alcohol servings per country"
   ]
  },
  {
   "cell_type": "code",
   "execution_count": 8,
   "id": "60cd220a-6092-4af1-b0c1-2644fa80f104",
   "metadata": {},
   "outputs": [],
   "source": [
    "# Convert columns to numeric values\n",
    "df[['beer_servings', 'spirit_servings', 'wine_servings']] = df[['beer_servings', 'spirit_servings', 'wine_servings']].apply(pd.to_numeric)\n",
    "\n",
    "# Fill missing values with mean of column\n",
    "df['beer_servings'].fillna(value=df['beer_servings'].mean(), inplace=True)\n",
    "df['spirit_servings'].fillna(value=df['spirit_servings'].mean(), inplace=True)\n",
    "df['wine_servings'].fillna(value=df['wine_servings'].mean(), inplace=True)\n",
    "\n",
    "# Drop total litres column\n",
    "df = df.drop(columns=['total_litres_of_pure_alcohol'])\n",
    "\n",
    "# Add a new columns showing total alcohol servings\n",
    "df['total_servings'] = df['beer_servings'] + df['spirit_servings'] + df['wine_servings']"
   ]
  },
  {
   "cell_type": "markdown",
   "id": "d350c339",
   "metadata": {},
   "source": [
    "dataset preview (after changes)"
   ]
  },
  {
   "cell_type": "code",
   "execution_count": 9,
   "id": "0de75c34",
   "metadata": {},
   "outputs": [
    {
     "data": {
      "text/html": [
       "<div>\n",
       "<style scoped>\n",
       "    .dataframe tbody tr th:only-of-type {\n",
       "        vertical-align: middle;\n",
       "    }\n",
       "\n",
       "    .dataframe tbody tr th {\n",
       "        vertical-align: top;\n",
       "    }\n",
       "\n",
       "    .dataframe thead th {\n",
       "        text-align: right;\n",
       "    }\n",
       "</style>\n",
       "<table border=\"1\" class=\"dataframe\">\n",
       "  <thead>\n",
       "    <tr style=\"text-align: right;\">\n",
       "      <th></th>\n",
       "      <th>country</th>\n",
       "      <th>beer_servings</th>\n",
       "      <th>spirit_servings</th>\n",
       "      <th>wine_servings</th>\n",
       "      <th>total_servings</th>\n",
       "    </tr>\n",
       "  </thead>\n",
       "  <tbody>\n",
       "    <tr>\n",
       "      <th>0</th>\n",
       "      <td>Afghanistan</td>\n",
       "      <td>0.0</td>\n",
       "      <td>0.0</td>\n",
       "      <td>0.0</td>\n",
       "      <td>0.0</td>\n",
       "    </tr>\n",
       "    <tr>\n",
       "      <th>1</th>\n",
       "      <td>Albania</td>\n",
       "      <td>89.0</td>\n",
       "      <td>132.0</td>\n",
       "      <td>54.0</td>\n",
       "      <td>275.0</td>\n",
       "    </tr>\n",
       "    <tr>\n",
       "      <th>2</th>\n",
       "      <td>Algeria</td>\n",
       "      <td>25.0</td>\n",
       "      <td>0.0</td>\n",
       "      <td>14.0</td>\n",
       "      <td>39.0</td>\n",
       "    </tr>\n",
       "    <tr>\n",
       "      <th>3</th>\n",
       "      <td>Andorra</td>\n",
       "      <td>245.0</td>\n",
       "      <td>138.0</td>\n",
       "      <td>312.0</td>\n",
       "      <td>695.0</td>\n",
       "    </tr>\n",
       "    <tr>\n",
       "      <th>4</th>\n",
       "      <td>Angola</td>\n",
       "      <td>217.0</td>\n",
       "      <td>57.0</td>\n",
       "      <td>45.0</td>\n",
       "      <td>319.0</td>\n",
       "    </tr>\n",
       "  </tbody>\n",
       "</table>\n",
       "</div>"
      ],
      "text/plain": [
       "       country  beer_servings  spirit_servings  wine_servings  total_servings\n",
       "0  Afghanistan            0.0              0.0            0.0             0.0\n",
       "1      Albania           89.0            132.0           54.0           275.0\n",
       "2      Algeria           25.0              0.0           14.0            39.0\n",
       "3      Andorra          245.0            138.0          312.0           695.0\n",
       "4       Angola          217.0             57.0           45.0           319.0"
      ]
     },
     "execution_count": 9,
     "metadata": {},
     "output_type": "execute_result"
    }
   ],
   "source": [
    "df.head()"
   ]
  },
  {
   "cell_type": "markdown",
   "id": "bd4afc95-3341-4339-9348-11036918b5cd",
   "metadata": {},
   "source": [
    "For the life Expectancy dataframe, we will transform the dataframe to calculate mean life expectancy by country."
   ]
  },
  {
   "cell_type": "code",
   "execution_count": 10,
   "id": "95d984aa-fb43-4c78-86c2-9f0df2ba6bb1",
   "metadata": {},
   "outputs": [],
   "source": [
    "df_le = df_le[df_le['GhoDisplay']=='Life expectancy at birth (years)'].groupby(\n",
    "    ['CountryDisplay'])['Numeric'].mean().reset_index()\n",
    "df_le = df_le.rename(\n",
    "    columns={'CountryDisplay': 'country', 'Numeric': 'life_expectancy'})"
   ]
  },
  {
   "cell_type": "markdown",
   "id": "04c0f93e-4e84-469c-bcde-eee43d513527",
   "metadata": {},
   "source": [
    "The transformed dataframe preview:"
   ]
  },
  {
   "cell_type": "code",
   "execution_count": 11,
   "id": "a7f8fcbb-b529-4d74-ae26-4f091a9b6520",
   "metadata": {},
   "outputs": [
    {
     "data": {
      "text/html": [
       "<div>\n",
       "<style scoped>\n",
       "    .dataframe tbody tr th:only-of-type {\n",
       "        vertical-align: middle;\n",
       "    }\n",
       "\n",
       "    .dataframe tbody tr th {\n",
       "        vertical-align: top;\n",
       "    }\n",
       "\n",
       "    .dataframe thead th {\n",
       "        text-align: right;\n",
       "    }\n",
       "</style>\n",
       "<table border=\"1\" class=\"dataframe\">\n",
       "  <thead>\n",
       "    <tr style=\"text-align: right;\">\n",
       "      <th></th>\n",
       "      <th>country</th>\n",
       "      <th>life_expectancy</th>\n",
       "    </tr>\n",
       "  </thead>\n",
       "  <tbody>\n",
       "    <tr>\n",
       "      <th>0</th>\n",
       "      <td>Afghanistan</td>\n",
       "      <td>56.311805</td>\n",
       "    </tr>\n",
       "    <tr>\n",
       "      <th>1</th>\n",
       "      <td>Albania</td>\n",
       "      <td>71.871584</td>\n",
       "    </tr>\n",
       "    <tr>\n",
       "      <th>2</th>\n",
       "      <td>Algeria</td>\n",
       "      <td>70.216262</td>\n",
       "    </tr>\n",
       "    <tr>\n",
       "      <th>3</th>\n",
       "      <td>Andorra</td>\n",
       "      <td>80.576820</td>\n",
       "    </tr>\n",
       "    <tr>\n",
       "      <th>4</th>\n",
       "      <td>Angola</td>\n",
       "      <td>47.852151</td>\n",
       "    </tr>\n",
       "    <tr>\n",
       "      <th>5</th>\n",
       "      <td>Antigua and Barbuda</td>\n",
       "      <td>73.595177</td>\n",
       "    </tr>\n",
       "    <tr>\n",
       "      <th>6</th>\n",
       "      <td>Argentina</td>\n",
       "      <td>74.903068</td>\n",
       "    </tr>\n",
       "    <tr>\n",
       "      <th>7</th>\n",
       "      <td>Armenia</td>\n",
       "      <td>70.046697</td>\n",
       "    </tr>\n",
       "    <tr>\n",
       "      <th>8</th>\n",
       "      <td>Australia</td>\n",
       "      <td>80.647330</td>\n",
       "    </tr>\n",
       "    <tr>\n",
       "      <th>9</th>\n",
       "      <td>Austria</td>\n",
       "      <td>78.901652</td>\n",
       "    </tr>\n",
       "  </tbody>\n",
       "</table>\n",
       "</div>"
      ],
      "text/plain": [
       "               country  life_expectancy\n",
       "0          Afghanistan        56.311805\n",
       "1              Albania        71.871584\n",
       "2              Algeria        70.216262\n",
       "3              Andorra        80.576820\n",
       "4               Angola        47.852151\n",
       "5  Antigua and Barbuda        73.595177\n",
       "6            Argentina        74.903068\n",
       "7              Armenia        70.046697\n",
       "8            Australia        80.647330\n",
       "9              Austria        78.901652"
      ]
     },
     "execution_count": 11,
     "metadata": {},
     "output_type": "execute_result"
    }
   ],
   "source": [
    "df_le.head(10)"
   ]
  },
  {
   "cell_type": "markdown",
   "id": "dd848450-614c-4d7b-95ae-c1488237265e",
   "metadata": {},
   "source": [
    "Lastly, in order to join the data containing life expectancy to the drinks dataset containing alcohol consumption by country, we need to check that the country labels between the two datasets all will match or the join won't work properly. To do this, the country labels for each dataset will be added to two distinct sets (list-like objects). Adding country labels to a set will ensure we are only left with unique values. The sets can then be compared to identify differences:"
   ]
  },
  {
   "cell_type": "code",
   "execution_count": 12,
   "id": "ea904421-8439-455b-9ae4-f34e6b10e0d2",
   "metadata": {},
   "outputs": [],
   "source": [
    "# Set containing labels for life expectancy dataset\n",
    "le_set = set(df_le['country'].tolist())\n",
    "\n",
    "# Set containing country labels for drinks dataset\n",
    "drinks_set = set(df['country'].tolist())\n",
    "\n",
    "# Check for differences\n",
    "diff = drinks_set - le_set"
   ]
  },
  {
   "cell_type": "markdown",
   "id": "0d85ac2e-c408-4069-beaf-0d3b72ffca36",
   "metadata": {},
   "source": [
    "The following list of countries exists in the drinks dataset but not in life expectancy dataset"
   ]
  },
  {
   "cell_type": "code",
   "execution_count": 13,
   "id": "a1d88692-6a2c-4fcb-aef6-7b2bdf2cf64e",
   "metadata": {},
   "outputs": [
    {
     "name": "stdout",
     "output_type": "stream",
     "text": [
      "Trinidad & Tobago\n",
      "Syria\n",
      "St. Kitts & Nevis\n",
      "Cote d'Ivoire\n",
      "DR Congo\n",
      "South Korea\n",
      "Bolivia\n",
      "St. Lucia\n",
      "Timor-Leste\n",
      "United Kingdom\n",
      "Guinea-Bissau\n",
      "Venezuela\n",
      "Vietnam\n",
      "Sao Tome & Principe\n",
      "North Korea\n",
      "Laos\n",
      "Iran\n",
      "USA\n",
      "St. Vincent & the Grenadines\n",
      "Brunei\n",
      "Antigua & Barbuda\n",
      "Tanzania\n",
      "Micronesia\n",
      "Macedonia\n",
      "Moldova\n",
      "Bosnia-Herzegovina\n"
     ]
    }
   ],
   "source": [
    "for i in diff: print(i)"
   ]
  },
  {
   "cell_type": "markdown",
   "id": "a385933f-4579-4ddc-a9db-44db5aa3ac81",
   "metadata": {},
   "source": [
    "I looked up these countries in the life_expectancy dataset and found there were slight variations in the wording of the name. To rectify the country labeling, the following dictionary was created with the matching country name pairs between the 2 datasets. This dictionary will be used used to replace all instances of key with corresponding values in the drinks dataframe."
   ]
  },
  {
   "cell_type": "code",
   "execution_count": 14,
   "id": "e144a294-c2e2-4619-99d8-4e45b62db9d8",
   "metadata": {},
   "outputs": [],
   "source": [
    "# Dictionary containing country names\n",
    "country_name_corrections = {\n",
    "    'Antigua & Barbuda': 'Antigua and Barbuda',\n",
    "    'Bolivia': 'Bolivia (Plurinational State of)',\n",
    "    'Bosnia-Herzegovina': 'Bosnia and Herzegovina',\n",
    "    'Brunei': 'Brunei Darussalam', \n",
    "    \"Cote d'Ivoire\": \"Côte d'Ivoire\",\n",
    "    'DR Congo': 'Congo',\n",
    "    'Guinea-Bissau': 'Guinea_Bissau',\n",
    "    'Iran': 'Iran (Islamic Republic of)',\n",
    "    'Laos': \"Lao People's Democratic Republic\",\n",
    "    'Micronesia': 'Micronesia (Federated States of)',\n",
    "    'Macedonia': 'The former Yugoslav republic of Macedonia',\n",
    "    'Moldova': 'Republic of Moldova',\n",
    "    'North Korea': 'Republic of Korea',\n",
    "    'Sao Tome & Principe': 'Sao Tome and Principe',\n",
    "    'South Korea': \"Democratic People's Republic of Korea\",\n",
    "    'St. Kitts & Nevis': 'Saint Kitts and Nevis',\n",
    "    'St. Lucia': 'Saint Lucia',\n",
    "    'St. Vincent & the Grenadines': 'Saint Vincent and the Grenadines',\n",
    "    'Syria': 'Syrian Arab Republic',\n",
    "    'Tanzania': 'United Republic of Tanzania',\n",
    "    'Timor-Leste': 'Timor_Leste',\n",
    "    'Trinidad & Tobago': 'Trinidad and Tobago',\n",
    "    'USA': 'United States of America',\n",
    "    'United Kingdom': 'United Kingdom of Great Britain and Northern Ireland',\n",
    "    'Venezuela': 'Venezuela (Bolivarian Republic of)',\n",
    "    'Vietnam': 'Viet Nam',\n",
    "    }\n",
    "\n",
    "# Replace country labels in life expectancy dataset to match with drinks dataset\n",
    "df = df.replace({'country': country_name_corrections})"
   ]
  },
  {
   "cell_type": "markdown",
   "id": "3bfe52d8-14da-4b74-aecd-e56302ac22ed",
   "metadata": {},
   "source": [
    "With the country labels now consistent, the two dataframes are merged using an inner join."
   ]
  },
  {
   "cell_type": "code",
   "execution_count": 15,
   "id": "9e72f10d-272e-4bb2-b45a-629ab74f92cd",
   "metadata": {},
   "outputs": [],
   "source": [
    "df = pd.merge(df, df_le, how='inner')"
   ]
  },
  {
   "cell_type": "markdown",
   "id": "de910ec4-7f60-4b5a-81dd-625342f801ac",
   "metadata": {},
   "source": [
    "preview of merged dataframe:"
   ]
  },
  {
   "cell_type": "code",
   "execution_count": 16,
   "id": "a06e9f39-d423-455e-a483-e3a5a1d5ed07",
   "metadata": {},
   "outputs": [
    {
     "data": {
      "text/html": [
       "<div>\n",
       "<style scoped>\n",
       "    .dataframe tbody tr th:only-of-type {\n",
       "        vertical-align: middle;\n",
       "    }\n",
       "\n",
       "    .dataframe tbody tr th {\n",
       "        vertical-align: top;\n",
       "    }\n",
       "\n",
       "    .dataframe thead th {\n",
       "        text-align: right;\n",
       "    }\n",
       "</style>\n",
       "<table border=\"1\" class=\"dataframe\">\n",
       "  <thead>\n",
       "    <tr style=\"text-align: right;\">\n",
       "      <th></th>\n",
       "      <th>country</th>\n",
       "      <th>beer_servings</th>\n",
       "      <th>spirit_servings</th>\n",
       "      <th>wine_servings</th>\n",
       "      <th>total_servings</th>\n",
       "      <th>life_expectancy</th>\n",
       "    </tr>\n",
       "  </thead>\n",
       "  <tbody>\n",
       "    <tr>\n",
       "      <th>0</th>\n",
       "      <td>Afghanistan</td>\n",
       "      <td>0.0</td>\n",
       "      <td>0.0</td>\n",
       "      <td>0.0</td>\n",
       "      <td>0.0</td>\n",
       "      <td>56.311805</td>\n",
       "    </tr>\n",
       "    <tr>\n",
       "      <th>1</th>\n",
       "      <td>Albania</td>\n",
       "      <td>89.0</td>\n",
       "      <td>132.0</td>\n",
       "      <td>54.0</td>\n",
       "      <td>275.0</td>\n",
       "      <td>71.871584</td>\n",
       "    </tr>\n",
       "    <tr>\n",
       "      <th>2</th>\n",
       "      <td>Algeria</td>\n",
       "      <td>25.0</td>\n",
       "      <td>0.0</td>\n",
       "      <td>14.0</td>\n",
       "      <td>39.0</td>\n",
       "      <td>70.216262</td>\n",
       "    </tr>\n",
       "    <tr>\n",
       "      <th>3</th>\n",
       "      <td>Andorra</td>\n",
       "      <td>245.0</td>\n",
       "      <td>138.0</td>\n",
       "      <td>312.0</td>\n",
       "      <td>695.0</td>\n",
       "      <td>80.576820</td>\n",
       "    </tr>\n",
       "    <tr>\n",
       "      <th>4</th>\n",
       "      <td>Angola</td>\n",
       "      <td>217.0</td>\n",
       "      <td>57.0</td>\n",
       "      <td>45.0</td>\n",
       "      <td>319.0</td>\n",
       "      <td>47.852151</td>\n",
       "    </tr>\n",
       "  </tbody>\n",
       "</table>\n",
       "</div>"
      ],
      "text/plain": [
       "       country  beer_servings  spirit_servings  wine_servings  total_servings  \\\n",
       "0  Afghanistan            0.0              0.0            0.0             0.0   \n",
       "1      Albania           89.0            132.0           54.0           275.0   \n",
       "2      Algeria           25.0              0.0           14.0            39.0   \n",
       "3      Andorra          245.0            138.0          312.0           695.0   \n",
       "4       Angola          217.0             57.0           45.0           319.0   \n",
       "\n",
       "   life_expectancy  \n",
       "0        56.311805  \n",
       "1        71.871584  \n",
       "2        70.216262  \n",
       "3        80.576820  \n",
       "4        47.852151  "
      ]
     },
     "execution_count": 16,
     "metadata": {},
     "output_type": "execute_result"
    }
   ],
   "source": [
    "df.head()"
   ]
  },
  {
   "cell_type": "markdown",
   "id": "5eb5b4f0-b979-4b32-a6c2-3e0c6c262261",
   "metadata": {},
   "source": [
    "### Data Visualizations & Insights\n",
    "Now that the datasets have been cleaned up and transformed as needed, we can dive in and create visualizations to understand the data better."
   ]
  },
  {
   "cell_type": "markdown",
   "id": "16bbfa0c-cddc-4a3d-ba47-dd5a98e1ae80",
   "metadata": {},
   "source": [
    "Distribution of Life Expectancy & Alcohol Servings Consumed (histograms)"
   ]
  },
  {
   "cell_type": "code",
   "execution_count": 17,
   "id": "2716390d-7ee1-4c24-81d4-0149bc6a4f41",
   "metadata": {},
   "outputs": [
    {
     "data": {
      "image/png": "[encoded data removed]",
      "text/plain": [
       "<Figure size 1440x360 with 2 Axes>"
      ]
     },
     "metadata": {},
     "output_type": "display_data"
    }
   ],
   "source": [
    "fig, ax =plt.subplots(1,2, figsize=(20, 5))\n",
    "sns.histplot(x='life_expectancy', data=df, ax=ax[0]).set(xlabel=None, title = 'Life Expectancy Distribution') \n",
    "sns.histplot(x='total_servings', data=df, ax=ax[1]).set(xlabel=None, title = 'Total Alcohol Servings Consumed') \n",
    "plt.show()"
   ]
  },
  {
   "cell_type": "markdown",
   "id": "19945dcf",
   "metadata": {},
   "source": [
    "World Life Expectancy skews towards 70-75 years old. Alcohol servings consumed skews less than 100."
   ]
  },
  {
   "cell_type": "markdown",
   "id": "55d3dde2-a992-449e-abf1-63811b83babf",
   "metadata": {},
   "source": [
    "Plotting life expectancy compared to total servings of alcohol"
   ]
  },
  {
   "cell_type": "code",
   "execution_count": 18,
   "id": "2b65e023-bf7a-4ffb-873e-7e986b6f2194",
   "metadata": {},
   "outputs": [
    {
     "data": {
      "image/png": "[encoded data removed]",
      "text/plain": [
       "<Figure size 576x360 with 1 Axes>"
      ]
     },
     "metadata": {},
     "output_type": "display_data"
    }
   ],
   "source": [
    "fig, ax = plt.subplots()\n",
    "fig.set_size_inches(8, 5)\n",
    "sns.regplot(x='total_servings', y='life_expectancy', data=df, ax=ax).set_title('Alcohol Consumption & Life Expectancy')\n",
    "plt.show()"
   ]
  },
  {
   "cell_type": "markdown",
   "id": "9b5bab6f-bc69-4408-9e52-5fa1350a8a1e",
   "metadata": {},
   "source": [
    "There is a surprising relationship between alcohol consumption and life expectancy. In fact, the data shows a weakly positive correlation between life expectancy and alcohol consumption. Albeit, the weak correlation indicates that other factors are likely contributing to differences in life expectancy, and further analysis is warranted before making and conclusive statements."
   ]
  },
  {
   "cell_type": "code",
   "execution_count": 19,
   "id": "ded24f03-e00c-4bbf-a0c5-3a38bbad79fe",
   "metadata": {},
   "outputs": [
    {
     "data": {
      "image/png": "[encoded data removed]",
      "text/plain": [
       "<Figure size 1440x360 with 3 Axes>"
      ]
     },
     "metadata": {},
     "output_type": "display_data"
    }
   ],
   "source": [
    "# create subplots to display correlation by alcohol type\n",
    "fig, ax =plt.subplots(1,3, figsize=(20, 5))\n",
    "sns.regplot(x='beer_servings', y='life_expectancy', data=df, ax=ax[0]).set_title('Beer')\n",
    "sns.regplot(x='spirit_servings', y='life_expectancy', data=df, ax=ax[1]).set_title('Spirits')\n",
    "sns.regplot(x='wine_servings', y='life_expectancy', data=df, ax=ax[2]).set_title('Wine')\n",
    "plt.show()"
   ]
  },
  {
   "cell_type": "markdown",
   "id": "afd5a36d-28ad-4b03-bc9b-25b7d4ed4f7d",
   "metadata": {},
   "source": [
    "As can be seen above, the relationships are similar when broken down by alcohol type."
   ]
  },
  {
   "cell_type": "markdown",
   "id": "2f1f2e55",
   "metadata": {},
   "source": [
    "Top 10 countries by alcohol total serving size:"
   ]
  },
  {
   "cell_type": "code",
   "execution_count": 20,
   "id": "cd1bb323-b053-4490-be09-cce05d8e05f2",
   "metadata": {},
   "outputs": [
    {
     "data": {
      "text/html": [
       "<div>\n",
       "<style scoped>\n",
       "    .dataframe tbody tr th:only-of-type {\n",
       "        vertical-align: middle;\n",
       "    }\n",
       "\n",
       "    .dataframe tbody tr th {\n",
       "        vertical-align: top;\n",
       "    }\n",
       "\n",
       "    .dataframe thead th {\n",
       "        text-align: right;\n",
       "    }\n",
       "</style>\n",
       "<table border=\"1\" class=\"dataframe\">\n",
       "  <thead>\n",
       "    <tr style=\"text-align: right;\">\n",
       "      <th></th>\n",
       "      <th>country</th>\n",
       "      <th>beer_servings</th>\n",
       "      <th>spirit_servings</th>\n",
       "      <th>wine_servings</th>\n",
       "      <th>total_servings</th>\n",
       "      <th>life_expectancy</th>\n",
       "    </tr>\n",
       "  </thead>\n",
       "  <tbody>\n",
       "    <tr>\n",
       "      <th>3</th>\n",
       "      <td>Andorra</td>\n",
       "      <td>245.0</td>\n",
       "      <td>138.0</td>\n",
       "      <td>312.0</td>\n",
       "      <td>695.0</td>\n",
       "      <td>80.576820</td>\n",
       "    </tr>\n",
       "    <tr>\n",
       "      <th>67</th>\n",
       "      <td>Grenada</td>\n",
       "      <td>199.0</td>\n",
       "      <td>438.0</td>\n",
       "      <td>28.0</td>\n",
       "      <td>665.0</td>\n",
       "      <td>72.434296</td>\n",
       "    </tr>\n",
       "    <tr>\n",
       "      <th>46</th>\n",
       "      <td>Czech Republic</td>\n",
       "      <td>361.0</td>\n",
       "      <td>170.0</td>\n",
       "      <td>134.0</td>\n",
       "      <td>665.0</td>\n",
       "      <td>75.636544</td>\n",
       "    </tr>\n",
       "    <tr>\n",
       "      <th>60</th>\n",
       "      <td>France</td>\n",
       "      <td>127.0</td>\n",
       "      <td>151.0</td>\n",
       "      <td>370.0</td>\n",
       "      <td>648.0</td>\n",
       "      <td>80.155273</td>\n",
       "    </tr>\n",
       "    <tr>\n",
       "      <th>141</th>\n",
       "      <td>Russian Federation</td>\n",
       "      <td>247.0</td>\n",
       "      <td>326.0</td>\n",
       "      <td>73.0</td>\n",
       "      <td>646.0</td>\n",
       "      <td>68.078784</td>\n",
       "    </tr>\n",
       "    <tr>\n",
       "      <th>97</th>\n",
       "      <td>Lithuania</td>\n",
       "      <td>343.0</td>\n",
       "      <td>244.0</td>\n",
       "      <td>56.0</td>\n",
       "      <td>643.0</td>\n",
       "      <td>72.878013</td>\n",
       "    </tr>\n",
       "    <tr>\n",
       "      <th>98</th>\n",
       "      <td>Luxembourg</td>\n",
       "      <td>236.0</td>\n",
       "      <td>133.0</td>\n",
       "      <td>271.0</td>\n",
       "      <td>640.0</td>\n",
       "      <td>79.443270</td>\n",
       "    </tr>\n",
       "    <tr>\n",
       "      <th>64</th>\n",
       "      <td>Germany</td>\n",
       "      <td>346.0</td>\n",
       "      <td>117.0</td>\n",
       "      <td>175.0</td>\n",
       "      <td>638.0</td>\n",
       "      <td>78.814174</td>\n",
       "    </tr>\n",
       "    <tr>\n",
       "      <th>74</th>\n",
       "      <td>Hungary</td>\n",
       "      <td>234.0</td>\n",
       "      <td>215.0</td>\n",
       "      <td>185.0</td>\n",
       "      <td>634.0</td>\n",
       "      <td>72.871278</td>\n",
       "    </tr>\n",
       "    <tr>\n",
       "      <th>137</th>\n",
       "      <td>Poland</td>\n",
       "      <td>343.0</td>\n",
       "      <td>215.0</td>\n",
       "      <td>56.0</td>\n",
       "      <td>614.0</td>\n",
       "      <td>74.793764</td>\n",
       "    </tr>\n",
       "  </tbody>\n",
       "</table>\n",
       "</div>"
      ],
      "text/plain": [
       "                country  beer_servings  spirit_servings  wine_servings  \\\n",
       "3               Andorra          245.0            138.0          312.0   \n",
       "67              Grenada          199.0            438.0           28.0   \n",
       "46       Czech Republic          361.0            170.0          134.0   \n",
       "60               France          127.0            151.0          370.0   \n",
       "141  Russian Federation          247.0            326.0           73.0   \n",
       "97            Lithuania          343.0            244.0           56.0   \n",
       "98           Luxembourg          236.0            133.0          271.0   \n",
       "64              Germany          346.0            117.0          175.0   \n",
       "74              Hungary          234.0            215.0          185.0   \n",
       "137              Poland          343.0            215.0           56.0   \n",
       "\n",
       "     total_servings  life_expectancy  \n",
       "3             695.0        80.576820  \n",
       "67            665.0        72.434296  \n",
       "46            665.0        75.636544  \n",
       "60            648.0        80.155273  \n",
       "141           646.0        68.078784  \n",
       "97            643.0        72.878013  \n",
       "98            640.0        79.443270  \n",
       "64            638.0        78.814174  \n",
       "74            634.0        72.871278  \n",
       "137           614.0        74.793764  "
      ]
     },
     "execution_count": 20,
     "metadata": {},
     "output_type": "execute_result"
    }
   ],
   "source": [
    "df.sort_values(by=['total_servings'], ascending=False).head(10)"
   ]
  },
  {
   "cell_type": "markdown",
   "id": "5fd05ca4",
   "metadata": {},
   "source": [
    "The above table shows the 10 countries with gihest alcohol consumption. However, it would be difficult to compare consumption habits of all countries in a table as there are nearly 200 countries represented in this dataset. To overcome this, we will plot alcohol consumption levels on a world map in the next section."
   ]
  },
  {
   "cell_type": "markdown",
   "id": "97fd5989",
   "metadata": {},
   "source": [
    "### Geospatial Visualization\n",
    "The how each country's alcohol consumtion looks like compared to others, we can create a visualization using a world map. Each country will be shaded a color scale dependent on alcohol consumption. To do this we will use the Geoplot python library.We will import it along with the pycountry library which will be used shortly."
   ]
  },
  {
   "cell_type": "code",
   "execution_count": 21,
   "id": "f4f6942b-474c-4aa9-bee2-5f531dcec8ab",
   "metadata": {},
   "outputs": [],
   "source": [
    "# Import required libraries\n",
    "import geoplot as gplt\n",
    "import geopandas as gpd\n",
    "import pycountry"
   ]
  },
  {
   "cell_type": "code",
   "execution_count": 22,
   "id": "e05ba62b",
   "metadata": {},
   "outputs": [],
   "source": [
    "world = gpd.read_file(gpd.datasets.get_path('naturalearth_lowres'))"
   ]
  },
  {
   "cell_type": "markdown",
   "id": "1b83e283",
   "metadata": {},
   "source": [
    "To plot the data we will need the 3 digit country code. This can be obtained with pycountry library that was just imported. The below custom function will take in country name as parameter and provide appropriate 3-character country code."
   ]
  },
  {
   "cell_type": "code",
   "execution_count": 23,
   "id": "7eac1265",
   "metadata": {},
   "outputs": [],
   "source": [
    "def alpha3code(column):\n",
    "    CODE=[]\n",
    "    for country in column:\n",
    "        try:\n",
    "            code=pycountry.countries.get(name=country).alpha_3\n",
    "            CODE.append(code)\n",
    "        except:\n",
    "            CODE.append('None')\n",
    "    return CODE"
   ]
  },
  {
   "cell_type": "markdown",
   "id": "4c0953f0",
   "metadata": {},
   "source": [
    "Applying the function to the dataframe:"
   ]
  },
  {
   "cell_type": "code",
   "execution_count": 24,
   "id": "bcf7bc28",
   "metadata": {},
   "outputs": [
    {
     "data": {
      "text/html": [
       "<div>\n",
       "<style scoped>\n",
       "    .dataframe tbody tr th:only-of-type {\n",
       "        vertical-align: middle;\n",
       "    }\n",
       "\n",
       "    .dataframe tbody tr th {\n",
       "        vertical-align: top;\n",
       "    }\n",
       "\n",
       "    .dataframe thead th {\n",
       "        text-align: right;\n",
       "    }\n",
       "</style>\n",
       "<table border=\"1\" class=\"dataframe\">\n",
       "  <thead>\n",
       "    <tr style=\"text-align: right;\">\n",
       "      <th></th>\n",
       "      <th>country</th>\n",
       "      <th>beer_servings</th>\n",
       "      <th>spirit_servings</th>\n",
       "      <th>wine_servings</th>\n",
       "      <th>total_servings</th>\n",
       "      <th>life_expectancy</th>\n",
       "      <th>CODE</th>\n",
       "    </tr>\n",
       "  </thead>\n",
       "  <tbody>\n",
       "    <tr>\n",
       "      <th>0</th>\n",
       "      <td>Afghanistan</td>\n",
       "      <td>0.0</td>\n",
       "      <td>0.0</td>\n",
       "      <td>0.0</td>\n",
       "      <td>0.0</td>\n",
       "      <td>56.311805</td>\n",
       "      <td>AFG</td>\n",
       "    </tr>\n",
       "    <tr>\n",
       "      <th>1</th>\n",
       "      <td>Albania</td>\n",
       "      <td>89.0</td>\n",
       "      <td>132.0</td>\n",
       "      <td>54.0</td>\n",
       "      <td>275.0</td>\n",
       "      <td>71.871584</td>\n",
       "      <td>ALB</td>\n",
       "    </tr>\n",
       "    <tr>\n",
       "      <th>2</th>\n",
       "      <td>Algeria</td>\n",
       "      <td>25.0</td>\n",
       "      <td>0.0</td>\n",
       "      <td>14.0</td>\n",
       "      <td>39.0</td>\n",
       "      <td>70.216262</td>\n",
       "      <td>DZA</td>\n",
       "    </tr>\n",
       "    <tr>\n",
       "      <th>3</th>\n",
       "      <td>Andorra</td>\n",
       "      <td>245.0</td>\n",
       "      <td>138.0</td>\n",
       "      <td>312.0</td>\n",
       "      <td>695.0</td>\n",
       "      <td>80.576820</td>\n",
       "      <td>AND</td>\n",
       "    </tr>\n",
       "    <tr>\n",
       "      <th>4</th>\n",
       "      <td>Angola</td>\n",
       "      <td>217.0</td>\n",
       "      <td>57.0</td>\n",
       "      <td>45.0</td>\n",
       "      <td>319.0</td>\n",
       "      <td>47.852151</td>\n",
       "      <td>AGO</td>\n",
       "    </tr>\n",
       "  </tbody>\n",
       "</table>\n",
       "</div>"
      ],
      "text/plain": [
       "       country  beer_servings  spirit_servings  wine_servings  total_servings  \\\n",
       "0  Afghanistan            0.0              0.0            0.0             0.0   \n",
       "1      Albania           89.0            132.0           54.0           275.0   \n",
       "2      Algeria           25.0              0.0           14.0            39.0   \n",
       "3      Andorra          245.0            138.0          312.0           695.0   \n",
       "4       Angola          217.0             57.0           45.0           319.0   \n",
       "\n",
       "   life_expectancy CODE  \n",
       "0        56.311805  AFG  \n",
       "1        71.871584  ALB  \n",
       "2        70.216262  DZA  \n",
       "3        80.576820  AND  \n",
       "4        47.852151  AGO  "
      ]
     },
     "execution_count": 24,
     "metadata": {},
     "output_type": "execute_result"
    }
   ],
   "source": [
    "df['CODE']=alpha3code(df.country)\n",
    "df.head()"
   ]
  },
  {
   "cell_type": "markdown",
   "id": "846d473f",
   "metadata": {},
   "source": [
    "We do have missing values however:"
   ]
  },
  {
   "cell_type": "code",
   "execution_count": 25,
   "id": "17fa7746",
   "metadata": {},
   "outputs": [
    {
     "name": "stdout",
     "output_type": "stream",
     "text": [
      "Bolivia (Plurinational State of)\n",
      "Czech Republic\n",
      "Guinea_Bissau\n",
      "Iran (Islamic Republic of)\n",
      "The former Yugoslav republic of Macedonia\n",
      "Micronesia (Federated States of)\n",
      "Republic of Moldova\n",
      "Republic of Korea\n",
      "Democratic People's Republic of Korea\n",
      "Swaziland\n",
      "United Republic of Tanzania\n",
      "Timor_Leste\n",
      "United Kingdom of Great Britain and Northern Ireland\n",
      "United States of America\n",
      "Venezuela (Bolivarian Republic of)\n"
     ]
    }
   ],
   "source": [
    "for i in df[df['CODE']=='None']['country'].tolist(): print(i)"
   ]
  },
  {
   "cell_type": "markdown",
   "id": "652f105f",
   "metadata": {},
   "source": [
    "Again I created a dictionary with appropriate country codes for these missing values. Codes were obtained from https://www.iban.com/country-codes"
   ]
  },
  {
   "cell_type": "code",
   "execution_count": 26,
   "id": "5d487fdd",
   "metadata": {},
   "outputs": [],
   "source": [
    "code_corr = {\n",
    "    'Bolivia (Plurinational State of)':'BOL',\n",
    "    'Czech Republic':'CZE',\n",
    "    'Guinea_Bissau':'GIN',\n",
    "    'Iran (Islamic Republic of)':'IRN',\n",
    "    'The former Yugoslav republic of Macedonia':'MKD',\n",
    "    'Micronesia (Federated States of)':'FSM',\n",
    "    'Republic of Moldova':'MDA',\n",
    "    'Republic of Korea':'KOR',\n",
    "    \"Democratic People's Republic of Korea\":'PRK',\n",
    "    'United Republic of Tanzania':'TZA',\n",
    "    'Timor_Leste':'TLS',\n",
    "    'United Kingdom of Great Britain and Northern Ireland':'GBR',\n",
    "    'United States of America':'USA',\n",
    "    'Venezuela (Bolivarian Republic of)':'VEN',\n",
    "    'Swaziland':'None'\n",
    "    }"
   ]
  },
  {
   "cell_type": "markdown",
   "id": "ee16d8e9",
   "metadata": {},
   "source": [
    "Applying the corrections to dataframe:"
   ]
  },
  {
   "cell_type": "code",
   "execution_count": 27,
   "id": "7ae92026",
   "metadata": {},
   "outputs": [],
   "source": [
    "for index, row in df.iterrows():\n",
    "    if row['CODE'] == 'None':\n",
    "        df.at[index,'CODE'] = code_corr[row['country']]"
   ]
  },
  {
   "cell_type": "markdown",
   "id": "c5224b14",
   "metadata": {},
   "source": [
    "Now, we can merge our dataframe with geoplot world dataframe."
   ]
  },
  {
   "cell_type": "code",
   "execution_count": 28,
   "id": "e5f0dee4",
   "metadata": {},
   "outputs": [],
   "source": [
    "# first let us merge gpd data with our dataframe\n",
    "world = gpd.read_file(gpd.datasets.get_path('naturalearth_lowres'))\n",
    "\n",
    "# rename the columns so that we can merge with our data\n",
    "world.columns=['pop_est', 'continent', 'name', 'CODE', 'gdp_md_est', 'geometry']\n",
    "\n",
    "# then merge with our data \n",
    "merge=pd.merge(world,df, on='CODE')"
   ]
  },
  {
   "cell_type": "markdown",
   "id": "7a133a45",
   "metadata": {},
   "source": [
    "With the dataset merged, we can proceed to plot."
   ]
  },
  {
   "cell_type": "code",
   "execution_count": 29,
   "id": "d16716ac",
   "metadata": {},
   "outputs": [
    {
     "data": {
      "image/png": "[encoded data removed]",
      "text/plain": [
       "<Figure size 1008x576 with 2 Axes>"
      ]
     },
     "metadata": {},
     "output_type": "display_data"
    }
   ],
   "source": [
    "# plot world map\n",
    "fig, ax = plt.subplots(1, 1, figsize=(14, 8))\n",
    "merge.plot(column='total_servings',\n",
    "           ax=ax,\n",
    "           legend=True,\n",
    "           cmap='viridis',\n",
    "           legend_kwds={'label': 'Alcohol Consumption (Servings)',\n",
    "                        'orientation': 'horizontal'}).set_title('Alcohol Consumption by Country')\n",
    "plt.show()"
   ]
  },
  {
   "cell_type": "markdown",
   "id": "1806cb67",
   "metadata": {},
   "source": [
    "At last we can see a world map showing alcohol consumption by country. \n",
    "\n",
    "Northern Hemisphere countries tend to have higher alcohol consumption with Australia being the exception. Africa and Southeast Asia especially have relatively low alcohol consumption while Russia has a very high consumption rate."
   ]
  }
 ],
 "metadata": {
  "kernelspec": {
   "display_name": "Python 3 (ipykernel)",
   "language": "python",
   "name": "python3"
  },
  "language_info": {
   "codemirror_mode": {
    "name": "ipython",
    "version": 3
   },
   "file_extension": ".py",
   "mimetype": "text/x-python",
   "name": "python",
   "nbconvert_exporter": "python",
   "pygments_lexer": "ipython3",
   "version": "3.10.4"
  }
 },
 "nbformat": 4,
 "nbformat_minor": 5
}
